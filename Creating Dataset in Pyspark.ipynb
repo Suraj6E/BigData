{
 "cells": [
  {
   "cell_type": "markdown",
   "id": "401a4544",
   "metadata": {},
   "source": [
    "## Lets import pyspark sql session to begin creating a dataset "
   ]
  },
  {
   "cell_type": "code",
   "execution_count": 23,
   "id": "374d362d",
   "metadata": {},
   "outputs": [],
   "source": [
    "from pyspark.sql import SparkSession\n",
    "from pyspark.sql.types import StructType, StructField, IntegerType, StringType\n",
    "import logging\n"
   ]
  },
  {
   "cell_type": "markdown",
   "id": "47ad0a63",
   "metadata": {},
   "source": [
    "## Lets Start a Pyspark Session and build an AppName"
   ]
  },
  {
   "cell_type": "code",
   "execution_count": 24,
   "id": "4ad8ced9",
   "metadata": {},
   "outputs": [],
   "source": [
    "\n",
    "# spark.stop()\n",
    "# sc.stop()"
   ]
  },
  {
   "cell_type": "code",
   "execution_count": 15,
   "id": "8f029867",
   "metadata": {},
   "outputs": [],
   "source": [
    "from pyspark import SparkConf, SparkContext\n",
    "\n",
    "##setup for logs\n",
    "logging.getLogger(\"py4j\").setLevel(logging.ERROR)\n",
    "\n",
    "conf = SparkConf().setAppName(\"CreateDatabase\")\n",
    "sc = SparkContext(conf=conf)\n"
   ]
  },
  {
   "cell_type": "code",
   "execution_count": 16,
   "id": "320dbcac",
   "metadata": {},
   "outputs": [],
   "source": [
    "\n",
    "spark = SparkSession.builder.appName(\"CreateDatabase\").getOrCreate()"
   ]
  },
  {
   "cell_type": "markdown",
   "id": "76925bdf",
   "metadata": {},
   "source": [
    "## Now Lets create a Python List to create a data for an Employee and Department"
   ]
  },
  {
   "cell_type": "code",
   "execution_count": 17,
   "id": "acc00f6c",
   "metadata": {},
   "outputs": [],
   "source": [
    "employee_data = [(1, \"Ram\", \"Shrestha\", \"ram@example.com\" , \"1992-02-11\", 55000, 101),\n",
    "                (2, \"Hari\", \"Gautam\", \"hari@example.com\", \"1993-02-09\", 55000, 102),\n",
    "                (3, \"Sumit\", \"Bahadur\", \"sumit@example.com\", \"1990-01-20\", 60000, 103)\n",
    "                ## you can add more rows if you want\n",
    "                ]\n",
    "\n",
    "department_data = [\n",
    "    (101, \"IT_Department\"),\n",
    "    (102, \"HR_Department\"),\n",
    "    (103, \"Marketing\")\n",
    "]"
   ]
  },
  {
   "cell_type": "markdown",
   "id": "da67e292",
   "metadata": {},
   "source": [
    "## Now Lets Give each filed their Data Types"
   ]
  },
  {
   "cell_type": "code",
   "execution_count": 18,
   "id": "566bdfba",
   "metadata": {},
   "outputs": [],
   "source": [
    "employee_schema = StructType([StructField(\"employee_id\", IntegerType(), True),\n",
    "                             StructField(\"first_name\", StringType(), True),\n",
    "                             StructField(\"last_name\", StringType(), True),\n",
    "                             StructField(\"email\", StringType(), True),\n",
    "                             StructField(\"hire_date\", StringType(), True),\n",
    "                             StructField(\"salary\", IntegerType(), True),\n",
    "                             StructField(\"department_id\", IntegerType(), True)])"
   ]
  },
  {
   "cell_type": "code",
   "execution_count": 19,
   "id": "85e4968a",
   "metadata": {},
   "outputs": [],
   "source": [
    "department_schema = StructType([StructField(\"department_id\", IntegerType(), True),\n",
    "                               StructField(\"department_name\", StringType(), True)])"
   ]
  },
  {
   "cell_type": "markdown",
   "id": "e06fa774",
   "metadata": {},
   "source": [
    "## Lets write this schema Df to our Drive"
   ]
  },
  {
   "cell_type": "code",
   "execution_count": 20,
   "id": "bd1dd0d0",
   "metadata": {},
   "outputs": [],
   "source": [
    "employees_df = spark.createDataFrame(employee_data , employee_schema)\n",
    "departments_df = spark.createDataFrame(department_data,department_schema)"
   ]
  },
  {
   "cell_type": "code",
   "execution_count": 21,
   "id": "fa1b1517",
   "metadata": {},
   "outputs": [
    {
     "data": {
      "text/html": [
       "\n",
       "            <div>\n",
       "                <p><b>SparkSession - in-memory</b></p>\n",
       "                \n",
       "        <div>\n",
       "            <p><b>SparkContext</b></p>\n",
       "\n",
       "            <p><a href=\"http://192.168.1.68:4040\">Spark UI</a></p>\n",
       "\n",
       "            <dl>\n",
       "              <dt>Version</dt>\n",
       "                <dd><code>v3.2.4</code></dd>\n",
       "              <dt>Master</dt>\n",
       "                <dd><code>local[*]</code></dd>\n",
       "              <dt>AppName</dt>\n",
       "                <dd><code>CreateDatabase</code></dd>\n",
       "            </dl>\n",
       "        </div>\n",
       "        \n",
       "            </div>\n",
       "        "
      ],
      "text/plain": [
       "<pyspark.sql.session.SparkSession at 0x1fef045d3a0>"
      ]
     },
     "execution_count": 21,
     "metadata": {},
     "output_type": "execute_result"
    }
   ],
   "source": [
    "spark"
   ]
  },
  {
   "cell_type": "code",
   "execution_count": 30,
   "id": "20045f77",
   "metadata": {},
   "outputs": [
    {
     "data": {
      "text/plain": [
       "[Row(employee_id=1, first_name='Ram', last_name='Shrestha', email='ram@example.com', hire_date='1992-02-11', salary=55000, department_id=101),\n",
       " Row(employee_id=2, first_name='Hari', last_name='Gautam', email='hari@example.com', hire_date='1993-02-09', salary=55000, department_id=102),\n",
       " Row(employee_id=3, first_name='Sumit', last_name='Bahadur', email='sumit@example.com', hire_date='1990-01-20', salary=60000, department_id=103)]"
      ]
     },
     "execution_count": 30,
     "metadata": {},
     "output_type": "execute_result"
    }
   ],
   "source": [
    "employees_df.coalesce(1).head(10)"
   ]
  },
  {
   "cell_type": "code",
   "execution_count": 46,
   "id": "c4532b7a",
   "metadata": {},
   "outputs": [],
   "source": [
    "\n",
    "# employees_df.repartition(1).write.mode(\"overwrite\").csv(\"./employees_data\", header = True)\n",
    "# departments_df.coalesce(1).write.csv(\"./departments_data.csv\", header = True)"
   ]
  }
 ],
 "metadata": {
  "kernelspec": {
   "display_name": "Python 3 (ipykernel)",
   "language": "python",
   "name": "python3"
  },
  "language_info": {
   "codemirror_mode": {
    "name": "ipython",
    "version": 3
   },
   "file_extension": ".py",
   "mimetype": "text/x-python",
   "name": "python",
   "nbconvert_exporter": "python",
   "pygments_lexer": "ipython3",
   "version": "3.9.0"
  }
 },
 "nbformat": 4,
 "nbformat_minor": 5
}
